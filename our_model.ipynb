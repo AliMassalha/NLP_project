{
  "nbformat": 4,
  "nbformat_minor": 0,
  "metadata": {
    "colab": {
      "provenance": []
    },
    "kernelspec": {
      "name": "python3",
      "display_name": "Python 3"
    },
    "language_info": {
      "name": "python"
    }
  },
  "cells": [
    {
      "cell_type": "code",
      "execution_count": null,
      "metadata": {
        "id": "K9FoH12VSg6W"
      },
      "outputs": [],
      "source": [
        "import pandas as pd\n",
        "import numpy as np\n",
        "import os\n",
        "import joblib\n",
        "from joblib import dump, load\n",
        "import matplotlib.pyplot as plt"
      ]
    },
    {
      "cell_type": "code",
      "execution_count": null,
      "metadata": {
        "id": "C8dQis1geq-Y"
      },
      "outputs": [],
      "source": [
        "import string\n",
        "import nltk\n",
        "from nltk.corpus import wordnet\n",
        "from nltk import pos_tag\n",
        "from nltk.corpus import stopwords\n",
        "from nltk.tokenize import WhitespaceTokenizer\n",
        "from nltk.stem import WordNetLemmatizer\n",
        "from nltk.sentiment.vader import SentimentIntensityAnalyzer"
      ]
    },
    {
      "cell_type": "code",
      "source": [
        "from sklearn.ensemble import RandomForestClassifier\n",
        "from sklearn.linear_model import LogisticRegression\n",
        "from sklearn.neural_network import MLPClassifier\n",
        "from sklearn import metrics\n",
        "from sklearn.model_selection import train_test_split\n",
        "from sklearn.feature_extraction.text import TfidfVectorizer\n",
        "from sklearn.metrics import roc_curve, auc, roc_auc_score, average_precision_score, precision_recall_curve\n",
        "from sklearn.metrics import classification_report, confusion_matrix"
      ],
      "metadata": {
        "id": "fc4uztYYX7K3"
      },
      "execution_count": null,
      "outputs": []
    },
    {
      "cell_type": "code",
      "source": [
        "from gensim.test.utils import common_texts\n",
        "from gensim.models.doc2vec import Doc2Vec, TaggedDocument"
      ],
      "metadata": {
        "id": "r1T-zJgcYKMn"
      },
      "execution_count": null,
      "outputs": []
    },
    {
      "cell_type": "code",
      "execution_count": null,
      "metadata": {
        "colab": {
          "base_uri": "https://localhost:8080/"
        },
        "id": "hqaCbuUBQW40",
        "outputId": "1d6e658a-b6a2-4ee0-c61d-c564828ab4a9"
      },
      "outputs": [
        {
          "output_type": "stream",
          "name": "stderr",
          "text": [
            "[nltk_data] Downloading package stopwords to /root/nltk_data...\n",
            "[nltk_data]   Unzipping corpora/stopwords.zip.\n",
            "[nltk_data] Downloading package averaged_perceptron_tagger to\n",
            "[nltk_data]     /root/nltk_data...\n",
            "[nltk_data]   Unzipping taggers/averaged_perceptron_tagger.zip.\n",
            "[nltk_data] Downloading package wordnet to /root/nltk_data...\n",
            "[nltk_data] Downloading package vader_lexicon to /root/nltk_data...\n"
          ]
        },
        {
          "output_type": "execute_result",
          "data": {
            "text/plain": [
              "True"
            ]
          },
          "metadata": {},
          "execution_count": 5
        }
      ],
      "source": [
        "nltk.download('stopwords')\n",
        "nltk.download('averaged_perceptron_tagger')\n",
        "nltk.download('wordnet')\n",
        "nltk.download('vader_lexicon')"
      ]
    },
    {
      "cell_type": "code",
      "execution_count": null,
      "metadata": {
        "colab": {
          "base_uri": "https://localhost:8080/"
        },
        "id": "_DDaOZ3DSzf3",
        "outputId": "29998f7f-7807-4e81-e163-7fc0f9199529"
      },
      "outputs": [
        {
          "output_type": "stream",
          "name": "stdout",
          "text": [
            "Mounted at /content/drive\n"
          ]
        }
      ],
      "source": [
        "from google.colab import drive\n",
        "\n",
        "drive.mount('/content/drive')\n"
      ]
    },
    {
      "cell_type": "code",
      "execution_count": null,
      "metadata": {
        "id": "LNeMcyCDe6p0"
      },
      "outputs": [],
      "source": [
        "dataset_path = '/content/drive/My Drive/'"
      ]
    },
    {
      "cell_type": "code",
      "source": [
        "\n",
        "# # Load the Hotel_Reviews.csv file\n",
        "# hotel_reviews_path = dataset_path+'Hotel_Reviews.csv'  # Replace with the actual path\n",
        "# hotel_reviews_df = pd.read_csv(hotel_reviews_path)\n",
        "\n",
        "\n",
        "# # Initialize an empty DataFrame to hold all game reviews\n",
        "# DATA_GAME_REVIEWS_PATH = \"data/game_reviews\"\n",
        "# N_HOTELS = 1068\n",
        "# reviews_path = DATA_GAME_REVIEWS_PATH\n",
        "# reviews = {}\n",
        "\n",
        "# for h in range(1, N_HOTELS + 1):\n",
        "#     hotel_df = pd.read_csv(os.path.join(dataset_path + reviews_path, f\"{h}.csv\"),\n",
        "#                             header=None)\n",
        "#     for review in hotel_df.iterrows():\n",
        "#       reviews[review[1][0]] = {\"hotel_name\": review[1][1],\"positive\": review[1][2],\n",
        "#                                       \"negative\": review[1][3],\n",
        "#                                       \"score\": review[1][4]}\n",
        "\n",
        "\n",
        "#     reviews[-1] = {\"positive\": \"\",\n",
        "#                         \"negative\": \"\",\n",
        "#                         \"score\": 8}\n",
        "\n",
        "# game_reviews_df = pd.DataFrame.from_dict(reviews, orient='index')\n",
        "# game_reviews_df = game_reviews_df.reset_index().rename(columns={'index': 'review_id'})\n",
        "\n",
        "# hotel_positive_set = set(hotel_reviews_df['Positive_Review'].dropna())\n",
        "# game_positive_set = set(game_reviews_df['positive'].dropna())\n",
        "\n",
        "# hotel_negative_set = set(hotel_reviews_df['Negative_Review'].dropna())\n",
        "# game_negative_set = set(game_reviews_df['negative'].dropna())\n",
        "\n",
        "# # Check the intersection size between the specified columns\n",
        "# positive_intersection_size = len(hotel_positive_set.intersection(game_positive_set))\n",
        "# negative_intersection_size = len(hotel_negative_set.intersection(game_negative_set))\n",
        "\n",
        "# print(f\"The positive intersection size between the specified columns is: {positive_intersection_size}\")\n",
        "# print(f\"The negative intersection size between the specified columns is: {negative_intersection_size}\")\n",
        "\n",
        "# The positive intersection size between the specified columns is: 0\n",
        "# The negative intersection size between the specified columns is: 0"
      ],
      "metadata": {
        "colab": {
          "base_uri": "https://localhost:8080/"
        },
        "id": "S6QMbs56Aw-K",
        "outputId": "ff796ba5-ac5a-4def-baef-d2ec3cbf1292"
      },
      "execution_count": null,
      "outputs": [
        {
          "output_type": "stream",
          "name": "stdout",
          "text": [
            "The positive intersection size between the specified columns is: 0\n",
            "The negative intersection size between the specified columns is: 0\n"
          ]
        }
      ]
    },
    {
      "cell_type": "code",
      "execution_count": null,
      "metadata": {
        "id": "493NdfKae9rV"
      },
      "outputs": [],
      "source": [
        "reviews_df = pd.read_csv(dataset_path+'/Hotel_Reviews.csv')"
      ]
    },
    {
      "cell_type": "code",
      "execution_count": null,
      "metadata": {
        "id": "HMKEs0CB1Uqb"
      },
      "outputs": [],
      "source": [
        "reviews_df[\"review\"] = reviews_df[\"Negative_Review\"] + reviews_df[\"Positive_Review\"]"
      ]
    },
    {
      "cell_type": "code",
      "execution_count": null,
      "metadata": {
        "id": "01L7ZBFd6nPL"
      },
      "outputs": [],
      "source": [
        "reviews_df = reviews_df.join(reviews_df.groupby('Hotel_Name')['Reviewer_Score'].mean(), on='Hotel_Name', rsuffix='_correct_mean')"
      ]
    },
    {
      "cell_type": "code",
      "execution_count": null,
      "metadata": {
        "id": "9qBPcbGL3Q7H"
      },
      "outputs": [],
      "source": [
        "reviews_df[\"is_bad_review\"] = reviews_df[\"Reviewer_Score_correct_mean\"].apply(lambda x: 1 if x < 8 else 0)"
      ]
    },
    {
      "cell_type": "code",
      "execution_count": null,
      "metadata": {
        "id": "j_GgG2PPIp2Y"
      },
      "outputs": [],
      "source": [
        "reviews_df[\"review\"] = reviews_df[\"review\"].apply(lambda x: x.replace(\"No Negative\", \"\").replace(\"No Positive\", \"\"))"
      ]
    },
    {
      "cell_type": "code",
      "execution_count": null,
      "metadata": {
        "id": "Bm3h0A-jOFRZ"
      },
      "outputs": [],
      "source": [
        "reviews_df = reviews_df.sample(frac = 0.15, replace = False, random_state=42)"
      ]
    },
    {
      "cell_type": "code",
      "source": [
        "reviews_df.shape"
      ],
      "metadata": {
        "colab": {
          "base_uri": "https://localhost:8080/"
        },
        "id": "ZM8etEUTA0Ga",
        "outputId": "85b8f88d-48e5-4400-a41b-905741ad3da0"
      },
      "execution_count": null,
      "outputs": [
        {
          "output_type": "execute_result",
          "data": {
            "text/plain": [
              "(77361, 20)"
            ]
          },
          "metadata": {},
          "execution_count": 15
        }
      ]
    },
    {
      "cell_type": "code",
      "execution_count": null,
      "metadata": {
        "colab": {
          "base_uri": "https://localhost:8080/"
        },
        "id": "4w1c3l3SOKWn",
        "outputId": "a4a92351-8305-4910-a726-77b05634f693"
      },
      "outputs": [
        {
          "output_type": "execute_result",
          "data": {
            "text/plain": [
              "17206"
            ]
          },
          "metadata": {},
          "execution_count": 16
        }
      ],
      "source": [
        "reviews_df[\"is_bad_review\"].sum()"
      ]
    },
    {
      "cell_type": "code",
      "source": [
        "def get_wordnet_pos(pos_tag):\n",
        "    if pos_tag.startswith('J'):\n",
        "        return wordnet.ADJ\n",
        "    elif pos_tag.startswith('V'):\n",
        "        return wordnet.VERB\n",
        "    elif pos_tag.startswith('N'):\n",
        "        return wordnet.NOUN\n",
        "    elif pos_tag.startswith('R'):\n",
        "        return wordnet.ADV\n",
        "    else:\n",
        "        return wordnet.NOUN\n",
        "\n",
        "\n",
        "def clean_text(text):\n",
        "    # lower text\n",
        "    text = text.lower()\n",
        "    # tokenize text and remove puncutation\n",
        "    text = [word.strip(string.punctuation) for word in text.split(\" \")]\n",
        "    # remove words that contain numbers\n",
        "    text = [word for word in text if not any(c.isdigit() for c in word)]\n",
        "    # remove stop words\n",
        "    stop = stopwords.words('english')\n",
        "    text = [x for x in text if x not in stop]\n",
        "    # remove empty tokens\n",
        "    text = [t for t in text if len(t) > 0]\n",
        "    # pos tag text\n",
        "    pos_tags = pos_tag(text)\n",
        "    # lemmatize text\n",
        "    text = [WordNetLemmatizer().lemmatize(t[0], get_wordnet_pos(t[1])) for t in pos_tags]\n",
        "    # remove words with only one letter\n",
        "    text = [t for t in text if len(t) > 1]\n",
        "    # join all\n",
        "    text = \" \".join(text)\n",
        "    return(text)"
      ],
      "metadata": {
        "id": "0KamP14XnO0S"
      },
      "execution_count": null,
      "outputs": []
    },
    {
      "cell_type": "code",
      "execution_count": null,
      "metadata": {
        "id": "FE_lKKEyJQH4"
      },
      "outputs": [],
      "source": [
        "\n",
        "\n",
        "# clean text data\n",
        "reviews_df[\"review_clean\"] = reviews_df[\"review\"].apply(lambda x: clean_text(x))"
      ]
    },
    {
      "cell_type": "code",
      "execution_count": null,
      "metadata": {
        "id": "hfhOzhrMSVHY"
      },
      "outputs": [],
      "source": [
        "sid = SentimentIntensityAnalyzer()\n",
        "reviews_df[\"sentiments\"] = reviews_df[\"review\"].apply(lambda x: sid.polarity_scores(x))\n",
        "reviews_df = pd.concat([reviews_df.drop(['sentiments'], axis=1), reviews_df['sentiments'].apply(pd.Series)], axis=1)"
      ]
    },
    {
      "cell_type": "code",
      "execution_count": null,
      "metadata": {
        "id": "lbcyXzeHc3bx"
      },
      "outputs": [],
      "source": [
        "# add number of characters column\n",
        "reviews_df[\"num_chars\"] = reviews_df[\"review\"].apply(lambda x: len(x))\n",
        "\n",
        "# add number of words column\n",
        "reviews_df[\"num_words\"] = reviews_df[\"review\"].apply(lambda x: len(x.split(\" \")))"
      ]
    },
    {
      "cell_type": "code",
      "source": [
        "reviews_df.head()"
      ],
      "metadata": {
        "id": "GxUrkwbEZlpb",
        "colab": {
          "base_uri": "https://localhost:8080/",
          "height": 602
        },
        "outputId": "fc82a17e-5f63-4932-e43a-4d136a552bc7"
      },
      "execution_count": null,
      "outputs": [
        {
          "output_type": "execute_result",
          "data": {
            "text/plain": [
              "                                            Hotel_Address  \\\n",
              "488440                 Via Senigallia 6 20161 Milan Italy   \n",
              "274649  Arlandaweg 10 Westpoort 1043 EW Amsterdam Neth...   \n",
              "374688        Mallorca 251 Eixample 08008 Barcelona Spain   \n",
              "404352  Piazza Della Repubblica 17 Central Station 201...   \n",
              "451596  Singel 303 309 Amsterdam City Center 1012 WJ A...   \n",
              "\n",
              "        Additional_Number_of_Scoring Review_Date  Average_Score  \\\n",
              "488440                           904   7/21/2017            8.1   \n",
              "274649                           612  12/12/2016            8.6   \n",
              "374688                            46  11/26/2015            8.3   \n",
              "404352                           241  10/17/2015            9.1   \n",
              "451596                           834   5/16/2016            9.1   \n",
              "\n",
              "                                        Hotel_Name  \\\n",
              "488440                              Hotel Da Vinci   \n",
              "274649                           Urban Lodge Hotel   \n",
              "374688  Alexandra Barcelona A DoubleTree by Hilton   \n",
              "404352                    Hotel Principe Di Savoia   \n",
              "451596                              Hotel Esther a   \n",
              "\n",
              "              Reviewer_Nationality  \\\n",
              "488440             United Kingdom    \n",
              "274649                    Belgium    \n",
              "374688                     Sweden    \n",
              "404352   United States of America    \n",
              "451596             United Kingdom    \n",
              "\n",
              "                                          Negative_Review  \\\n",
              "488440   Would have appreciated a shop in the hotel th...   \n",
              "274649        No tissue paper box was present at the room   \n",
              "374688                                           Pillows    \n",
              "404352                                        No Negative   \n",
              "451596                                        No Negative   \n",
              "\n",
              "        Review_Total_Negative_Word_Counts  Total_Number_of_Reviews  \\\n",
              "488440                                 52                    16670   \n",
              "274649                                 10                     5018   \n",
              "374688                                  3                      351   \n",
              "404352                                  0                     1543   \n",
              "451596                                  0                     4687   \n",
              "\n",
              "                                          Positive_Review  ...  \\\n",
              "488440   Hotel was great clean friendly staff free bre...  ...   \n",
              "274649                                        No Positive  ...   \n",
              "374688                         Nice welcoming and service  ...   \n",
              "404352   Everything including the nice upgrade The Hot...  ...   \n",
              "451596                    Lovely hotel v welcoming staff   ...   \n",
              "\n",
              "                                                   review  \\\n",
              "488440   Would have appreciated a shop in the hotel th...   \n",
              "274649        No tissue paper box was present at the room   \n",
              "374688                Pillows  Nice welcoming and service   \n",
              "404352   Everything including the nice upgrade The Hot...   \n",
              "451596                    Lovely hotel v welcoming staff    \n",
              "\n",
              "        Reviewer_Score_correct_mean  is_bad_review  \\\n",
              "488440                     7.790144              1   \n",
              "274649                     8.942297              0   \n",
              "374688                     8.027273              0   \n",
              "404352                     9.114286              0   \n",
              "451596                     9.266413              0   \n",
              "\n",
              "                                             review_clean    neg    neu  \\\n",
              "488440  would appreciate shop hotel sell drinking wate...  0.049  0.617   \n",
              "274649                      tissue paper box present room  0.216  0.784   \n",
              "374688                        pillow nice welcome service  0.000  0.345   \n",
              "404352  everything include nice upgrade hotel revamp s...  0.000  0.621   \n",
              "451596                         lovely hotel welcome staff  0.000  0.230   \n",
              "\n",
              "          pos compound  num_chars  num_words  \n",
              "488440  0.334   0.9924        599        113  \n",
              "274649  0.000  -0.2960         44         10  \n",
              "374688  0.655   0.6908         36          7  \n",
              "404352  0.379   0.9153        155         27  \n",
              "451596  0.770   0.7717         32          7  \n",
              "\n",
              "[5 rows x 27 columns]"
            ],
            "text/html": [
              "\n",
              "  <div id=\"df-0de0f751-9aff-48ab-92a8-8cde3df38e0f\" class=\"colab-df-container\">\n",
              "    <div>\n",
              "<style scoped>\n",
              "    .dataframe tbody tr th:only-of-type {\n",
              "        vertical-align: middle;\n",
              "    }\n",
              "\n",
              "    .dataframe tbody tr th {\n",
              "        vertical-align: top;\n",
              "    }\n",
              "\n",
              "    .dataframe thead th {\n",
              "        text-align: right;\n",
              "    }\n",
              "</style>\n",
              "<table border=\"1\" class=\"dataframe\">\n",
              "  <thead>\n",
              "    <tr style=\"text-align: right;\">\n",
              "      <th></th>\n",
              "      <th>Hotel_Address</th>\n",
              "      <th>Additional_Number_of_Scoring</th>\n",
              "      <th>Review_Date</th>\n",
              "      <th>Average_Score</th>\n",
              "      <th>Hotel_Name</th>\n",
              "      <th>Reviewer_Nationality</th>\n",
              "      <th>Negative_Review</th>\n",
              "      <th>Review_Total_Negative_Word_Counts</th>\n",
              "      <th>Total_Number_of_Reviews</th>\n",
              "      <th>Positive_Review</th>\n",
              "      <th>...</th>\n",
              "      <th>review</th>\n",
              "      <th>Reviewer_Score_correct_mean</th>\n",
              "      <th>is_bad_review</th>\n",
              "      <th>review_clean</th>\n",
              "      <th>neg</th>\n",
              "      <th>neu</th>\n",
              "      <th>pos</th>\n",
              "      <th>compound</th>\n",
              "      <th>num_chars</th>\n",
              "      <th>num_words</th>\n",
              "    </tr>\n",
              "  </thead>\n",
              "  <tbody>\n",
              "    <tr>\n",
              "      <th>488440</th>\n",
              "      <td>Via Senigallia 6 20161 Milan Italy</td>\n",
              "      <td>904</td>\n",
              "      <td>7/21/2017</td>\n",
              "      <td>8.1</td>\n",
              "      <td>Hotel Da Vinci</td>\n",
              "      <td>United Kingdom</td>\n",
              "      <td>Would have appreciated a shop in the hotel th...</td>\n",
              "      <td>52</td>\n",
              "      <td>16670</td>\n",
              "      <td>Hotel was great clean friendly staff free bre...</td>\n",
              "      <td>...</td>\n",
              "      <td>Would have appreciated a shop in the hotel th...</td>\n",
              "      <td>7.790144</td>\n",
              "      <td>1</td>\n",
              "      <td>would appreciate shop hotel sell drinking wate...</td>\n",
              "      <td>0.049</td>\n",
              "      <td>0.617</td>\n",
              "      <td>0.334</td>\n",
              "      <td>0.9924</td>\n",
              "      <td>599</td>\n",
              "      <td>113</td>\n",
              "    </tr>\n",
              "    <tr>\n",
              "      <th>274649</th>\n",
              "      <td>Arlandaweg 10 Westpoort 1043 EW Amsterdam Neth...</td>\n",
              "      <td>612</td>\n",
              "      <td>12/12/2016</td>\n",
              "      <td>8.6</td>\n",
              "      <td>Urban Lodge Hotel</td>\n",
              "      <td>Belgium</td>\n",
              "      <td>No tissue paper box was present at the room</td>\n",
              "      <td>10</td>\n",
              "      <td>5018</td>\n",
              "      <td>No Positive</td>\n",
              "      <td>...</td>\n",
              "      <td>No tissue paper box was present at the room</td>\n",
              "      <td>8.942297</td>\n",
              "      <td>0</td>\n",
              "      <td>tissue paper box present room</td>\n",
              "      <td>0.216</td>\n",
              "      <td>0.784</td>\n",
              "      <td>0.000</td>\n",
              "      <td>-0.2960</td>\n",
              "      <td>44</td>\n",
              "      <td>10</td>\n",
              "    </tr>\n",
              "    <tr>\n",
              "      <th>374688</th>\n",
              "      <td>Mallorca 251 Eixample 08008 Barcelona Spain</td>\n",
              "      <td>46</td>\n",
              "      <td>11/26/2015</td>\n",
              "      <td>8.3</td>\n",
              "      <td>Alexandra Barcelona A DoubleTree by Hilton</td>\n",
              "      <td>Sweden</td>\n",
              "      <td>Pillows</td>\n",
              "      <td>3</td>\n",
              "      <td>351</td>\n",
              "      <td>Nice welcoming and service</td>\n",
              "      <td>...</td>\n",
              "      <td>Pillows  Nice welcoming and service</td>\n",
              "      <td>8.027273</td>\n",
              "      <td>0</td>\n",
              "      <td>pillow nice welcome service</td>\n",
              "      <td>0.000</td>\n",
              "      <td>0.345</td>\n",
              "      <td>0.655</td>\n",
              "      <td>0.6908</td>\n",
              "      <td>36</td>\n",
              "      <td>7</td>\n",
              "    </tr>\n",
              "    <tr>\n",
              "      <th>404352</th>\n",
              "      <td>Piazza Della Repubblica 17 Central Station 201...</td>\n",
              "      <td>241</td>\n",
              "      <td>10/17/2015</td>\n",
              "      <td>9.1</td>\n",
              "      <td>Hotel Principe Di Savoia</td>\n",
              "      <td>United States of America</td>\n",
              "      <td>No Negative</td>\n",
              "      <td>0</td>\n",
              "      <td>1543</td>\n",
              "      <td>Everything including the nice upgrade The Hot...</td>\n",
              "      <td>...</td>\n",
              "      <td>Everything including the nice upgrade The Hot...</td>\n",
              "      <td>9.114286</td>\n",
              "      <td>0</td>\n",
              "      <td>everything include nice upgrade hotel revamp s...</td>\n",
              "      <td>0.000</td>\n",
              "      <td>0.621</td>\n",
              "      <td>0.379</td>\n",
              "      <td>0.9153</td>\n",
              "      <td>155</td>\n",
              "      <td>27</td>\n",
              "    </tr>\n",
              "    <tr>\n",
              "      <th>451596</th>\n",
              "      <td>Singel 303 309 Amsterdam City Center 1012 WJ A...</td>\n",
              "      <td>834</td>\n",
              "      <td>5/16/2016</td>\n",
              "      <td>9.1</td>\n",
              "      <td>Hotel Esther a</td>\n",
              "      <td>United Kingdom</td>\n",
              "      <td>No Negative</td>\n",
              "      <td>0</td>\n",
              "      <td>4687</td>\n",
              "      <td>Lovely hotel v welcoming staff</td>\n",
              "      <td>...</td>\n",
              "      <td>Lovely hotel v welcoming staff</td>\n",
              "      <td>9.266413</td>\n",
              "      <td>0</td>\n",
              "      <td>lovely hotel welcome staff</td>\n",
              "      <td>0.000</td>\n",
              "      <td>0.230</td>\n",
              "      <td>0.770</td>\n",
              "      <td>0.7717</td>\n",
              "      <td>32</td>\n",
              "      <td>7</td>\n",
              "    </tr>\n",
              "  </tbody>\n",
              "</table>\n",
              "<p>5 rows × 27 columns</p>\n",
              "</div>\n",
              "    <div class=\"colab-df-buttons\">\n",
              "\n",
              "  <div class=\"colab-df-container\">\n",
              "    <button class=\"colab-df-convert\" onclick=\"convertToInteractive('df-0de0f751-9aff-48ab-92a8-8cde3df38e0f')\"\n",
              "            title=\"Convert this dataframe to an interactive table.\"\n",
              "            style=\"display:none;\">\n",
              "\n",
              "  <svg xmlns=\"http://www.w3.org/2000/svg\" height=\"24px\" viewBox=\"0 -960 960 960\">\n",
              "    <path d=\"M120-120v-720h720v720H120Zm60-500h600v-160H180v160Zm220 220h160v-160H400v160Zm0 220h160v-160H400v160ZM180-400h160v-160H180v160Zm440 0h160v-160H620v160ZM180-180h160v-160H180v160Zm440 0h160v-160H620v160Z\"/>\n",
              "  </svg>\n",
              "    </button>\n",
              "\n",
              "  <style>\n",
              "    .colab-df-container {\n",
              "      display:flex;\n",
              "      gap: 12px;\n",
              "    }\n",
              "\n",
              "    .colab-df-convert {\n",
              "      background-color: #E8F0FE;\n",
              "      border: none;\n",
              "      border-radius: 50%;\n",
              "      cursor: pointer;\n",
              "      display: none;\n",
              "      fill: #1967D2;\n",
              "      height: 32px;\n",
              "      padding: 0 0 0 0;\n",
              "      width: 32px;\n",
              "    }\n",
              "\n",
              "    .colab-df-convert:hover {\n",
              "      background-color: #E2EBFA;\n",
              "      box-shadow: 0px 1px 2px rgba(60, 64, 67, 0.3), 0px 1px 3px 1px rgba(60, 64, 67, 0.15);\n",
              "      fill: #174EA6;\n",
              "    }\n",
              "\n",
              "    .colab-df-buttons div {\n",
              "      margin-bottom: 4px;\n",
              "    }\n",
              "\n",
              "    [theme=dark] .colab-df-convert {\n",
              "      background-color: #3B4455;\n",
              "      fill: #D2E3FC;\n",
              "    }\n",
              "\n",
              "    [theme=dark] .colab-df-convert:hover {\n",
              "      background-color: #434B5C;\n",
              "      box-shadow: 0px 1px 3px 1px rgba(0, 0, 0, 0.15);\n",
              "      filter: drop-shadow(0px 1px 2px rgba(0, 0, 0, 0.3));\n",
              "      fill: #FFFFFF;\n",
              "    }\n",
              "  </style>\n",
              "\n",
              "    <script>\n",
              "      const buttonEl =\n",
              "        document.querySelector('#df-0de0f751-9aff-48ab-92a8-8cde3df38e0f button.colab-df-convert');\n",
              "      buttonEl.style.display =\n",
              "        google.colab.kernel.accessAllowed ? 'block' : 'none';\n",
              "\n",
              "      async function convertToInteractive(key) {\n",
              "        const element = document.querySelector('#df-0de0f751-9aff-48ab-92a8-8cde3df38e0f');\n",
              "        const dataTable =\n",
              "          await google.colab.kernel.invokeFunction('convertToInteractive',\n",
              "                                                    [key], {});\n",
              "        if (!dataTable) return;\n",
              "\n",
              "        const docLinkHtml = 'Like what you see? Visit the ' +\n",
              "          '<a target=\"_blank\" href=https://colab.research.google.com/notebooks/data_table.ipynb>data table notebook</a>'\n",
              "          + ' to learn more about interactive tables.';\n",
              "        element.innerHTML = '';\n",
              "        dataTable['output_type'] = 'display_data';\n",
              "        await google.colab.output.renderOutput(dataTable, element);\n",
              "        const docLink = document.createElement('div');\n",
              "        docLink.innerHTML = docLinkHtml;\n",
              "        element.appendChild(docLink);\n",
              "      }\n",
              "    </script>\n",
              "  </div>\n",
              "\n",
              "\n",
              "<div id=\"df-ba303611-9ce8-46f4-9abd-1bba62923f79\">\n",
              "  <button class=\"colab-df-quickchart\" onclick=\"quickchart('df-ba303611-9ce8-46f4-9abd-1bba62923f79')\"\n",
              "            title=\"Suggest charts\"\n",
              "            style=\"display:none;\">\n",
              "\n",
              "<svg xmlns=\"http://www.w3.org/2000/svg\" height=\"24px\"viewBox=\"0 0 24 24\"\n",
              "     width=\"24px\">\n",
              "    <g>\n",
              "        <path d=\"M19 3H5c-1.1 0-2 .9-2 2v14c0 1.1.9 2 2 2h14c1.1 0 2-.9 2-2V5c0-1.1-.9-2-2-2zM9 17H7v-7h2v7zm4 0h-2V7h2v10zm4 0h-2v-4h2v4z\"/>\n",
              "    </g>\n",
              "</svg>\n",
              "  </button>\n",
              "\n",
              "<style>\n",
              "  .colab-df-quickchart {\n",
              "      --bg-color: #E8F0FE;\n",
              "      --fill-color: #1967D2;\n",
              "      --hover-bg-color: #E2EBFA;\n",
              "      --hover-fill-color: #174EA6;\n",
              "      --disabled-fill-color: #AAA;\n",
              "      --disabled-bg-color: #DDD;\n",
              "  }\n",
              "\n",
              "  [theme=dark] .colab-df-quickchart {\n",
              "      --bg-color: #3B4455;\n",
              "      --fill-color: #D2E3FC;\n",
              "      --hover-bg-color: #434B5C;\n",
              "      --hover-fill-color: #FFFFFF;\n",
              "      --disabled-bg-color: #3B4455;\n",
              "      --disabled-fill-color: #666;\n",
              "  }\n",
              "\n",
              "  .colab-df-quickchart {\n",
              "    background-color: var(--bg-color);\n",
              "    border: none;\n",
              "    border-radius: 50%;\n",
              "    cursor: pointer;\n",
              "    display: none;\n",
              "    fill: var(--fill-color);\n",
              "    height: 32px;\n",
              "    padding: 0;\n",
              "    width: 32px;\n",
              "  }\n",
              "\n",
              "  .colab-df-quickchart:hover {\n",
              "    background-color: var(--hover-bg-color);\n",
              "    box-shadow: 0 1px 2px rgba(60, 64, 67, 0.3), 0 1px 3px 1px rgba(60, 64, 67, 0.15);\n",
              "    fill: var(--button-hover-fill-color);\n",
              "  }\n",
              "\n",
              "  .colab-df-quickchart-complete:disabled,\n",
              "  .colab-df-quickchart-complete:disabled:hover {\n",
              "    background-color: var(--disabled-bg-color);\n",
              "    fill: var(--disabled-fill-color);\n",
              "    box-shadow: none;\n",
              "  }\n",
              "\n",
              "  .colab-df-spinner {\n",
              "    border: 2px solid var(--fill-color);\n",
              "    border-color: transparent;\n",
              "    border-bottom-color: var(--fill-color);\n",
              "    animation:\n",
              "      spin 1s steps(1) infinite;\n",
              "  }\n",
              "\n",
              "  @keyframes spin {\n",
              "    0% {\n",
              "      border-color: transparent;\n",
              "      border-bottom-color: var(--fill-color);\n",
              "      border-left-color: var(--fill-color);\n",
              "    }\n",
              "    20% {\n",
              "      border-color: transparent;\n",
              "      border-left-color: var(--fill-color);\n",
              "      border-top-color: var(--fill-color);\n",
              "    }\n",
              "    30% {\n",
              "      border-color: transparent;\n",
              "      border-left-color: var(--fill-color);\n",
              "      border-top-color: var(--fill-color);\n",
              "      border-right-color: var(--fill-color);\n",
              "    }\n",
              "    40% {\n",
              "      border-color: transparent;\n",
              "      border-right-color: var(--fill-color);\n",
              "      border-top-color: var(--fill-color);\n",
              "    }\n",
              "    60% {\n",
              "      border-color: transparent;\n",
              "      border-right-color: var(--fill-color);\n",
              "    }\n",
              "    80% {\n",
              "      border-color: transparent;\n",
              "      border-right-color: var(--fill-color);\n",
              "      border-bottom-color: var(--fill-color);\n",
              "    }\n",
              "    90% {\n",
              "      border-color: transparent;\n",
              "      border-bottom-color: var(--fill-color);\n",
              "    }\n",
              "  }\n",
              "</style>\n",
              "\n",
              "  <script>\n",
              "    async function quickchart(key) {\n",
              "      const quickchartButtonEl =\n",
              "        document.querySelector('#' + key + ' button');\n",
              "      quickchartButtonEl.disabled = true;  // To prevent multiple clicks.\n",
              "      quickchartButtonEl.classList.add('colab-df-spinner');\n",
              "      try {\n",
              "        const charts = await google.colab.kernel.invokeFunction(\n",
              "            'suggestCharts', [key], {});\n",
              "      } catch (error) {\n",
              "        console.error('Error during call to suggestCharts:', error);\n",
              "      }\n",
              "      quickchartButtonEl.classList.remove('colab-df-spinner');\n",
              "      quickchartButtonEl.classList.add('colab-df-quickchart-complete');\n",
              "    }\n",
              "    (() => {\n",
              "      let quickchartButtonEl =\n",
              "        document.querySelector('#df-ba303611-9ce8-46f4-9abd-1bba62923f79 button');\n",
              "      quickchartButtonEl.style.display =\n",
              "        google.colab.kernel.accessAllowed ? 'block' : 'none';\n",
              "    })();\n",
              "  </script>\n",
              "</div>\n",
              "\n",
              "    </div>\n",
              "  </div>\n"
            ],
            "application/vnd.google.colaboratory.intrinsic+json": {
              "type": "dataframe",
              "variable_name": "reviews_df"
            }
          },
          "metadata": {},
          "execution_count": 21
        }
      ]
    },
    {
      "cell_type": "code",
      "source": [
        "# # create doc2vec vector columns\n",
        "# documents = [TaggedDocument(doc, [i]) for i, doc in enumerate(reviews_df[\"review_clean\"].apply(lambda x: x.split(\" \")))]\n",
        "\n",
        "# # train a Doc2Vec model with our text data\n",
        "# model = Doc2Vec(documents, vector_size=5, window=2, min_count=1, workers=4)\n",
        "\n",
        "# # transform each document into a vector data\n",
        "# doc2vec_df = reviews_df[\"review_clean\"].apply(lambda x: model.infer_vector(x.split(\" \"))).apply(pd.Series)\n",
        "# doc2vec_df.columns = [\"doc2vec_vector_\" + str(x) for x in doc2vec_df.columns]\n",
        "# reviews_df = pd.concat([reviews_df, doc2vec_df], axis=1)"
      ],
      "metadata": {
        "id": "fXKSXwyCIv_w"
      },
      "execution_count": null,
      "outputs": []
    },
    {
      "cell_type": "code",
      "execution_count": null,
      "metadata": {
        "id": "4TvSHaIWkWgs"
      },
      "outputs": [],
      "source": [
        "tfidf = TfidfVectorizer(min_df = 20)\n",
        "tfidf_result = tfidf.fit_transform(reviews_df[\"review_clean\"]).toarray()\n",
        "# tfidf = load('tfidf_vectorizer1.joblib')\n",
        "# tfidf_result = tfidf.transform(reviews_df[\"review_clean\"]).toarray()\n",
        "tfidf_df = pd.DataFrame(tfidf_result, columns = tfidf.get_feature_names_out())\n",
        "tfidf_df.columns = [\"word_\" + str(x) for x in tfidf_df.columns]\n",
        "tfidf_df.index = reviews_df.index\n",
        "reviews_df = pd.concat([reviews_df, tfidf_df], axis=1)"
      ]
    },
    {
      "cell_type": "code",
      "execution_count": null,
      "metadata": {
        "colab": {
          "base_uri": "https://localhost:8080/"
        },
        "id": "RvFLA4bW42-Z",
        "outputId": "c961e29b-7ad6-476d-dfd6-139654107479"
      },
      "outputs": [
        {
          "output_type": "execute_result",
          "data": {
            "text/plain": [
              "['tfidf_vectorizer.joblib']"
            ]
          },
          "metadata": {},
          "execution_count": 24
        }
      ],
      "source": [
        "dump(tfidf, 'tfidf_vectorizer.joblib')\n",
        "# dump(model, 'Doc2vec.joblib')"
      ]
    },
    {
      "cell_type": "code",
      "execution_count": null,
      "metadata": {
        "id": "hthY-HCrv3Ma",
        "colab": {
          "base_uri": "https://localhost:8080/"
        },
        "outputId": "6b6065be-ce18-46e3-c43a-cc5f42755321"
      },
      "outputs": [
        {
          "output_type": "stream",
          "name": "stdout",
          "text": [
            "Index(['Hotel_Address', 'Additional_Number_of_Scoring', 'Review_Date',\n",
            "       'Average_Score', 'Hotel_Name', 'Reviewer_Nationality',\n",
            "       'Negative_Review', 'Review_Total_Negative_Word_Counts',\n",
            "       'Total_Number_of_Reviews', 'Positive_Review',\n",
            "       'Review_Total_Positive_Word_Counts',\n",
            "       'Total_Number_of_Reviews_Reviewer_Has_Given', 'Reviewer_Score', 'Tags',\n",
            "       'days_since_review', 'lat', 'lng', 'review',\n",
            "       'Reviewer_Score_correct_mean', 'is_bad_review', 'review_clean'],\n",
            "      dtype='object')\n"
          ]
        }
      ],
      "source": [
        "label = \"is_bad_review\"\n",
        "ignore_cols = reviews_df.columns[:21]\n",
        "features = [c for c in reviews_df.columns if c not in ignore_cols]\n",
        "\n",
        "print(ignore_cols)\n"
      ]
    },
    {
      "cell_type": "code",
      "source": [
        "reviews_df.shape"
      ],
      "metadata": {
        "colab": {
          "base_uri": "https://localhost:8080/"
        },
        "id": "8_6uIlT1bL5g",
        "outputId": "ba09bc5e-0f6f-4563-832b-fd8ec5333b64"
      },
      "execution_count": null,
      "outputs": [
        {
          "output_type": "execute_result",
          "data": {
            "text/plain": [
              "(77361, 3281)"
            ]
          },
          "metadata": {},
          "execution_count": 26
        }
      ]
    },
    {
      "cell_type": "code",
      "source": [
        "X_train, X_test, y_train, y_test = train_test_split(reviews_df[features], reviews_df[label], test_size = 0.20, random_state = 42)"
      ],
      "metadata": {
        "id": "_g5PMunBEhaa"
      },
      "execution_count": null,
      "outputs": []
    },
    {
      "cell_type": "code",
      "source": [
        "# model = RandomForestClassifier(n_estimators = 100, random_state = 42, class_weight='balanced')\n",
        "model = LogisticRegression(random_state=0, C=2, max_iter=1300, class_weight='balanced')\n",
        "model.fit(X_train, y_train)\n",
        "\n",
        "# Save the model\n",
        "joblib.dump(model, 'model.joblib')\n",
        "\n",
        "# Predict on test set\n",
        "y_pred1 = model.predict(X_test)\n",
        "y_pred_proba = model.predict_proba(X_test)[:, 1]\n",
        "\n",
        "# Evaluate the model\n",
        "print(\"Classification Report:\\n\", classification_report(y_test, y_pred1))\n",
        "print(\"Confusion Matrix:\\n\", confusion_matrix(y_test, y_pred1))\n",
        "print(\"ROC-AUC Score:\", roc_auc_score(y_test, y_pred_proba))\n",
        "\n",
        "# Plot ROC Curve\n",
        "fpr, tpr, _ = roc_curve(y_test, y_pred_proba)\n",
        "roc_auc = auc(fpr, tpr)\n",
        "\n",
        "plt.figure(1, figsize=(15, 10))\n",
        "plt.plot(fpr, tpr, color='darkorange', lw=2, label='ROC curve (area = %0.2f)' % roc_auc)\n",
        "plt.plot([0, 1], [0, 1], color='navy', lw=2, linestyle='--')\n",
        "plt.xlim([0.0, 1.0])\n",
        "plt.ylim([0.0, 1.05])\n",
        "plt.xlabel('False Positive Rate')\n",
        "plt.ylabel('True Positive Rate')\n",
        "plt.title('Receiver Operating Characteristic')\n",
        "plt.legend(loc=\"lower right\")\n",
        "plt.show()\n",
        "\n",
        "# Plot Precision-Recall Curve\n",
        "average_precision = average_precision_score(y_test, y_pred_proba)\n",
        "precision, recall, _ = precision_recall_curve(y_test, y_pred_proba)\n",
        "\n",
        "plt.figure(1, figsize=(15, 10))\n",
        "plt.step(recall, precision, color='b', alpha=0.2, where='post')\n",
        "plt.fill_between(recall, precision, alpha=0.2, color='b', step='post')\n",
        "\n",
        "plt.xlabel('Recall')\n",
        "plt.ylabel('Precision')\n",
        "plt.ylim([0.0, 1.05])\n",
        "plt.xlim([0.0, 1.0])\n",
        "plt.title('2-class Precision-Recall curve: AP={0:0.2f}'.format(average_precision))\n",
        "plt.show()"
      ],
      "metadata": {
        "colab": {
          "base_uri": "https://localhost:8080/",
          "height": 1000
        },
        "id": "WWxg690h0orU",
        "outputId": "17c31ef8-3046-4726-8d31-8239ef7e4ea7"
      },
      "execution_count": null,
      "outputs": [
        {
          "output_type": "stream",
          "name": "stdout",
          "text": [
            "Classification Report:\n",
            "               precision    recall  f1-score   support\n",
            "\n",
            "           0       0.85      0.66      0.74     11950\n",
            "           1       0.34      0.60      0.43      3523\n",
            "\n",
            "    accuracy                           0.64     15473\n",
            "   macro avg       0.59      0.63      0.59     15473\n",
            "weighted avg       0.73      0.64      0.67     15473\n",
            "\n",
            "Confusion Matrix:\n",
            " [[7836 4114]\n",
            " [1421 2102]]\n",
            "ROC-AUC Score: 0.6801421145205979\n"
          ]
        },
        {
          "output_type": "display_data",
          "data": {
            "text/plain": [
              "<Figure size 1500x1000 with 1 Axes>"
            ],
            "image/png": "[encoded data removed]"
          },
          "metadata": {}
        },
        {
          "output_type": "display_data",
          "data": {
            "text/plain": [
              "<Figure size 1500x1000 with 1 Axes>"
            ],
            "image/png": "[encoded data removed]"
          },
          "metadata": {}
        }
      ]
    },
    {
      "cell_type": "code",
      "source": [
        "pos_part,neg_part='good beautiful good good','Breakfast should be improved and lighting in the bedroom it is horrible, awful, disgusting'\n",
        "pos = 0\n",
        "neg = 0\n",
        "score = 8.1\n",
        "try:\n",
        "    score = float(score)\n",
        "except ValueError:\n",
        "  pass\n",
        "\n",
        "model = SentimentIntensityAnalyzer()\n",
        "\n",
        "missing_values = ['N/A', 'NA', 'NULL', 'NaN', '_', 'MISSING', 'UNKNOWN', 'UNAVAILABLE']\n",
        "\n",
        "if isinstance(pos_part,str) and pos_part.strip().lower() not in missing_values:\n",
        "    clean_pos_part = clean_text(pos_part)\n",
        "    # pos = model.polarity_scores(pos_part)\n",
        "else:\n",
        "    clean_pos_part=''\n",
        "\n",
        "if isinstance(neg_part, str) and neg_part.strip().lower() not in missing_values:\n",
        "    clean_neg_part = clean_text(neg_part)\n",
        "    # neg = model.polarity_scores(neg_part)\n",
        "else:\n",
        "    clean_neg_part=''\n",
        "\n",
        "# print(pos_part)\n",
        "# print(neg_part)\n",
        "# print(clean_pos_part)\n",
        "# print(clean_neg_part)\n",
        "review = pos_part + \" \" + neg_part\n",
        "sentiment = model.polarity_scores(review)\n",
        "cleaned_review = clean_text(review)\n",
        "num_chars = len(review)\n",
        "num_words = len(review.split(\" \"))\n",
        "input = [sentiment['neg'], sentiment['neu'], sentiment['pos'], sentiment['compound'], num_chars, num_words]\n",
        "loaded_tfidf = load('tfidf_vectorizer.joblib')\n",
        "input_tfidf = loaded_tfidf.transform([cleaned_review]).toarray().flatten()\n",
        "\n",
        "input.extend(input_tfidf)\n",
        "\n",
        "# Create DataFrame with the same feature names used during training\n",
        "feature_names = ['neg', 'neu', 'pos', 'compound', 'num_chars', 'num_words'] + [\"word_\" + str(x) for x in loaded_tfidf.get_feature_names_out()]\n",
        "input_df = pd.DataFrame([input], columns=feature_names)\n",
        "# input = input + list(input_tfidf[0])\n",
        "\n"
      ],
      "metadata": {
        "id": "oOTgPOnlfkFc"
      },
      "execution_count": null,
      "outputs": []
    },
    {
      "cell_type": "code",
      "source": [
        "loaded_model = load('model.joblib')"
      ],
      "metadata": {
        "id": "9BSAQMSqwVQq"
      },
      "execution_count": null,
      "outputs": []
    },
    {
      "cell_type": "code",
      "source": [
        "prediction = loaded_model.predict(input_df)[0]\n",
        "print(prediction)"
      ],
      "metadata": {
        "id": "3Nb_8jqUfsYe",
        "colab": {
          "base_uri": "https://localhost:8080/"
        },
        "outputId": "8aafb7f4-859d-457a-d2f8-ab58ca3ea5b0"
      },
      "execution_count": null,
      "outputs": [
        {
          "output_type": "stream",
          "name": "stdout",
          "text": [
            "1\n"
          ]
        }
      ]
    },
    {
      "cell_type": "code",
      "source": [
        "# import matplotlib.pyplot as plt\n",
        "\n",
        "\n",
        "# epochs = list(range(1, 11))\n",
        "# accuracy_scores_1 = [0.821, 0.829, 0.829, 0.828, 0.831, 0.83, 0.8286, 0.827, 0.832, 0.828] #rand,trust,llm,sent\n",
        "# accuracy_scores_2 = [0.82, 0.829, 0.8266, 0.83, 0.831, 0.83, 0.831, 0.832, 0.8322, 0.8319]  #trust,llm,sent\n",
        "\n",
        "\n",
        "# fig, ax = plt.subplots()\n",
        "# ax.plot(epochs, accuracy_scores_1, label='rand,trust,llm,sent', marker='o')  # 'o' for circle markers\n",
        "# ax.plot(epochs, accuracy_scores_2, label='trust,llm,sent', marker='s')  # 's' for square markers\n",
        "\n",
        "# # Changing the y-axis scale to logarithmic\n",
        "# ax.set_yticks([0.81, 0.82, 0.83, 0.84, 0.85])\n",
        "\n",
        "# # Adding titles and labels\n",
        "# ax.set_title('Accuracy Scores over Epochs')\n",
        "# ax.set_xlabel('Epochs')\n",
        "# ax.set_ylabel('Accuracy')\n",
        "# ax.legend()\n",
        "\n",
        "# # Show plot\n",
        "# plt.show()\n"
      ],
      "metadata": {
        "id": "SoSbsCw7FBYP",
        "colab": {
          "base_uri": "https://localhost:8080/",
          "height": 472
        },
        "outputId": "1e9b2010-81f9-4486-999d-b408e262a614"
      },
      "execution_count": 2,
      "outputs": [
        {
          "output_type": "display_data",
          "data": {
            "text/plain": [
              "<Figure size 640x480 with 1 Axes>"
            ],
            "image/png": "[encoded data removed]"
          },
          "metadata": {}
        }
      ]
    }
  ]
}