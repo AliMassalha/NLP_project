{
  "nbformat": 4,
  "nbformat_minor": 0,
  "metadata": {
    "colab": {
      "provenance": []
    },
    "kernelspec": {
      "name": "python3",
      "display_name": "Python 3"
    },
    "language_info": {
      "name": "python"
    }
  },
  "cells": [
    {
      "cell_type": "code",
      "source": [
        "# !pip install wandb"
      ],
      "metadata": {
        "colab": {
          "base_uri": "https://localhost:8080/"
        },
        "id": "2Xc7SqR27nP5",
        "outputId": "b07cde30-8e3c-4f4b-eb39-7744f4000c85"
      },
      "execution_count": 1,
      "outputs": [
        {
          "output_type": "stream",
          "name": "stdout",
          "text": [
            "Collecting wandb\n",
            "  Downloading wandb-0.17.1-py3-none-manylinux_2_5_x86_64.manylinux1_x86_64.manylinux_2_17_x86_64.manylinux2014_x86_64.whl (6.8 MB)\n",
            "\u001b[2K     \u001b[90m━━━━━━━━━━━━━━━━━━━━━━━━━━━━━━━━━━━━━━━━\u001b[0m \u001b[32m6.8/6.8 MB\u001b[0m \u001b[31m22.0 MB/s\u001b[0m eta \u001b[36m0:00:00\u001b[0m\n",
            "\u001b[?25hRequirement already satisfied: click!=8.0.0,>=7.1 in /usr/local/lib/python3.10/dist-packages (from wandb) (8.1.7)\n",
            "Collecting docker-pycreds>=0.4.0 (from wandb)\n",
            "  Downloading docker_pycreds-0.4.0-py2.py3-none-any.whl (9.0 kB)\n",
            "Collecting gitpython!=3.1.29,>=1.0.0 (from wandb)\n",
            "  Downloading GitPython-3.1.43-py3-none-any.whl (207 kB)\n",
            "\u001b[2K     \u001b[90m━━━━━━━━━━━━━━━━━━━━━━━━━━━━━━━━━━━━━━━━\u001b[0m \u001b[32m207.3/207.3 kB\u001b[0m \u001b[31m21.4 MB/s\u001b[0m eta \u001b[36m0:00:00\u001b[0m\n",
            "\u001b[?25hRequirement already satisfied: platformdirs in /usr/local/lib/python3.10/dist-packages (from wandb) (4.2.2)\n",
            "Requirement already satisfied: protobuf!=4.21.0,<6,>=3.19.0 in /usr/local/lib/python3.10/dist-packages (from wandb) (3.20.3)\n",
            "Requirement already satisfied: psutil>=5.0.0 in /usr/local/lib/python3.10/dist-packages (from wandb) (5.9.5)\n",
            "Requirement already satisfied: pyyaml in /usr/local/lib/python3.10/dist-packages (from wandb) (6.0.1)\n",
            "Requirement already satisfied: requests<3,>=2.0.0 in /usr/local/lib/python3.10/dist-packages (from wandb) (2.31.0)\n",
            "Collecting sentry-sdk>=1.0.0 (from wandb)\n",
            "  Downloading sentry_sdk-2.5.1-py2.py3-none-any.whl (289 kB)\n",
            "\u001b[2K     \u001b[90m━━━━━━━━━━━━━━━━━━━━━━━━━━━━━━━━━━━━━━━━\u001b[0m \u001b[32m289.6/289.6 kB\u001b[0m \u001b[31m26.6 MB/s\u001b[0m eta \u001b[36m0:00:00\u001b[0m\n",
            "\u001b[?25hCollecting setproctitle (from wandb)\n",
            "  Downloading setproctitle-1.3.3-cp310-cp310-manylinux_2_5_x86_64.manylinux1_x86_64.manylinux_2_17_x86_64.manylinux2014_x86_64.whl (30 kB)\n",
            "Requirement already satisfied: setuptools in /usr/local/lib/python3.10/dist-packages (from wandb) (67.7.2)\n",
            "Requirement already satisfied: six>=1.4.0 in /usr/local/lib/python3.10/dist-packages (from docker-pycreds>=0.4.0->wandb) (1.16.0)\n",
            "Collecting gitdb<5,>=4.0.1 (from gitpython!=3.1.29,>=1.0.0->wandb)\n",
            "  Downloading gitdb-4.0.11-py3-none-any.whl (62 kB)\n",
            "\u001b[2K     \u001b[90m━━━━━━━━━━━━━━━━━━━━━━━━━━━━━━━━━━━━━━━━\u001b[0m \u001b[32m62.7/62.7 kB\u001b[0m \u001b[31m7.7 MB/s\u001b[0m eta \u001b[36m0:00:00\u001b[0m\n",
            "\u001b[?25hRequirement already satisfied: charset-normalizer<4,>=2 in /usr/local/lib/python3.10/dist-packages (from requests<3,>=2.0.0->wandb) (3.3.2)\n",
            "Requirement already satisfied: idna<4,>=2.5 in /usr/local/lib/python3.10/dist-packages (from requests<3,>=2.0.0->wandb) (3.7)\n",
            "Requirement already satisfied: urllib3<3,>=1.21.1 in /usr/local/lib/python3.10/dist-packages (from requests<3,>=2.0.0->wandb) (2.0.7)\n",
            "Requirement already satisfied: certifi>=2017.4.17 in /usr/local/lib/python3.10/dist-packages (from requests<3,>=2.0.0->wandb) (2024.6.2)\n",
            "Collecting smmap<6,>=3.0.1 (from gitdb<5,>=4.0.1->gitpython!=3.1.29,>=1.0.0->wandb)\n",
            "  Downloading smmap-5.0.1-py3-none-any.whl (24 kB)\n",
            "Installing collected packages: smmap, setproctitle, sentry-sdk, docker-pycreds, gitdb, gitpython, wandb\n",
            "Successfully installed docker-pycreds-0.4.0 gitdb-4.0.11 gitpython-3.1.43 sentry-sdk-2.5.1 setproctitle-1.3.3 smmap-5.0.1 wandb-0.17.1\n"
          ]
        }
      ]
    },
    {
      "cell_type": "code",
      "execution_count": 2,
      "metadata": {
        "ExecuteTime": {
          "end_time": "2024-04-11T08:41:25.086551Z",
          "start_time": "2024-04-11T08:41:14.896715Z"
        },
        "id": "6d796479-916b-464c-9c7b-448306d9e7e9"
      },
      "outputs": [],
      "source": [
        "import pandas as pd\n",
        "import wandb\n",
        "from tqdm import tqdm\n",
        "import requests\n",
        "import os\n",
        "import numpy as np\n",
        "import matplotlib.pyplot as plt\n",
        "import sklearn\n",
        "from sklearn import metrics\n",
        "import matplotlib.pyplot as plt\n",
        "import scipy.stats as stats\n",
        "import matplotlib.colors as mcolors"
      ]
    },
    {
      "cell_type": "code",
      "source": [
        "class wandb_results:\n",
        "    def __init__(self, project_id, wandb_username=\"eilamshapira\"):\n",
        "        self.api = wandb.Api(timeout=60)\n",
        "        self.project_id = project_id\n",
        "        self.wandb_username = wandb_username\n",
        "\n",
        "    def get_sweep_results(self, sweep_id, metric=\"accuracy_all\", best_epoch=False, get_servers=False, reset_api=False, read_csv_if_exist=True, save_to_csv=True):\n",
        "        if reset_api:\n",
        "            self.reset_api()\n",
        "\n",
        "        print(f\"Download {sweep_id=} data...\")\n",
        "        runs = self.api.sweep(f\"{self.wandb_username}/{self.project_id}/{sweep_id}\").runs\n",
        "        n_runs = len(runs)\n",
        "        path = f\"sweeps_csvs/{sweep_id}_{n_runs}.csv\"\n",
        "        if read_csv_if_exist and os.path.exists(path):\n",
        "            return pd.read_csv(path, index_col=0)\n",
        "        summary_list, config_list, name_list = [], [], []\n",
        "        for run in tqdm(runs):\n",
        "            summary_list.append(run.summary._json_dict)\n",
        "            config_list.append(\n",
        "                {k: v for k,v in run.config.items()\n",
        "                  if not k.startswith('_')})\n",
        "            name_list.append(run.name)\n",
        "\n",
        "        runs_df = pd.DataFrame({\n",
        "            \"summary\": summary_list,\n",
        "            \"config\": config_list,\n",
        "            \"name\": name_list\n",
        "            })\n",
        "        config_cols = pd.json_normalize(runs_df['config'])\n",
        "        config_cols.columns = [f\"config_{c}\" for c in config_cols.columns]\n",
        "        summary_cols = pd.json_normalize(runs_df['summary'])\n",
        "        runs_df = pd.concat([runs_df, config_cols, summary_cols], axis=1)\n",
        "        runs_df.drop(['config', 'summary'], axis=1, inplace=True)\n",
        "        hpt = [c for c in config_cols.columns if c not in [\"config_seed\", \"config_run_hash\"]]\n",
        "        if save_to_csv: runs_df.to_csv(path)\n",
        "        return runs_df\n",
        "\n",
        "    def get_sweeps_results(self, sweeps, metric=\"accuracy_all\", best_epoch=False, get_servers=False,  read_csv_if_exist=True, save_to_csv=True):\n",
        "        print(\"Total number of sweeps:\", len(sweeps))\n",
        "        j = pd.concat([self.get_sweep_results(sweep, metric=metric, best_epoch=best_epoch,  get_servers=get_servers, save_to_csv=save_to_csv, read_csv_if_exist=read_csv_if_exist) for sweep in sweeps])\n",
        "        j = j.reset_index(drop=True)\n",
        "        return j\n",
        "\n",
        "    def reset_api(self):\n",
        "        self.api = wandb.Api()"
      ],
      "metadata": {
        "id": "-p8cSKkw9QxQ"
      },
      "execution_count": 3,
      "outputs": []
    },
    {
      "cell_type": "code",
      "execution_count": 5,
      "metadata": {
        "ExecuteTime": {
          "end_time": "2024-04-11T08:41:41.493512Z",
          "start_time": "2024-04-11T08:41:41.387480Z"
        },
        "id": "a9b533fe-a6ba-45c9-8bac-5da5e1414208",
        "colab": {
          "base_uri": "https://localhost:8080/",
          "height": 107
        },
        "outputId": "c33a4bc3-76cd-4381-a7ba-9e3e8f2f6cd6"
      },
      "outputs": [
        {
          "output_type": "display_data",
          "data": {
            "text/plain": [
              "<IPython.core.display.Javascript object>"
            ],
            "application/javascript": [
              "\n",
              "        window._wandbApiKey = new Promise((resolve, reject) => {\n",
              "            function loadScript(url) {\n",
              "            return new Promise(function(resolve, reject) {\n",
              "                let newScript = document.createElement(\"script\");\n",
              "                newScript.onerror = reject;\n",
              "                newScript.onload = resolve;\n",
              "                document.body.appendChild(newScript);\n",
              "                newScript.src = url;\n",
              "            });\n",
              "            }\n",
              "            loadScript(\"https://cdn.jsdelivr.net/npm/postmate/build/postmate.min.js\").then(() => {\n",
              "            const iframe = document.createElement('iframe')\n",
              "            iframe.style.cssText = \"width:0;height:0;border:none\"\n",
              "            document.body.appendChild(iframe)\n",
              "            const handshake = new Postmate({\n",
              "                container: iframe,\n",
              "                url: 'https://wandb.ai/authorize'\n",
              "            });\n",
              "            const timeout = setTimeout(() => reject(\"Couldn't auto authenticate\"), 5000)\n",
              "            handshake.then(function(child) {\n",
              "                child.on('authorize', data => {\n",
              "                    clearTimeout(timeout)\n",
              "                    resolve(data)\n",
              "                });\n",
              "            });\n",
              "            })\n",
              "        });\n",
              "    "
            ]
          },
          "metadata": {}
        },
        {
          "output_type": "stream",
          "name": "stderr",
          "text": [
            "\u001b[34m\u001b[1mwandb\u001b[0m: Logging into wandb.ai. (Learn how to deploy a W&B server locally: https://wandb.me/wandb-server)\n",
            "\u001b[34m\u001b[1mwandb\u001b[0m: You can find your API key in your browser here: https://wandb.ai/authorize\n",
            "wandb: Paste an API key from your profile and hit enter, or press ctrl+c to quit:"
          ]
        },
        {
          "name": "stdout",
          "output_type": "stream",
          "text": [
            " ··········\n"
          ]
        },
        {
          "output_type": "stream",
          "name": "stderr",
          "text": [
            "\u001b[34m\u001b[1mwandb\u001b[0m: Appending key for api.wandb.ai to your netrc file: /root/.netrc\n"
          ]
        }
      ],
      "source": [
        "# from read_wandb import wandb_results\n",
        "api = wandb_results(\"NLP2024_PROJECT_AliMassalha\", wandb_username=\"technions\") #1cfb48ee50f664359729acbc119118a7525b4242\n",
        "\n",
        "BASE_METRIC = \"accuracy_per_mean_user_and_bot\""
      ]
    },
    {
      "cell_type": "code",
      "outputs": [],
      "source": [
        "# def result_metric(sweeps, group_name, drop_list=[0], drop_HPT=False, metric=BASE_METRIC, epoch=\"best\"):\n",
        "#     df = api.get_sweeps_results(sweeps, metric=metric)\n",
        "#\n",
        "#     config_cols = [c for c in df.columns if \"config_\" in c and c!=\"config_wandb_run_id\" and c!=\"config_online_simulation_size\"]\n",
        "#     HPT_cols = [col for col in config_cols if df[col].nunique() > 1]\n",
        "#     print(HPT_cols)\n",
        "#     if drop_HPT:\n",
        "#         df=df.drop([c for c in HPT_cols if not c in [\"config_LLM_SIM_SIZE\", \"config_seed\"]], axis=1)\n",
        "#         HPT_cols = [\"config_LLM_SIM_SIZE\", \"config_seed\"]\n",
        "#\n",
        "#     grouped = df.groupby([c for c in HPT_cols if c != \"config_seed\"])\n",
        "#\n",
        "#     mean_df = grouped.mean()\n",
        "#     std_df = grouped.std()\n",
        "#     if epoch==\"best\":\n",
        "#         best_col = mean_df[[c for c in mean_df.columns if (metric in c and metric[-4:] == c.split(\"_epoch\")[0][-4:])]].idxmax(axis=1)\n",
        "#     else:\n",
        "#         best_col = mean_df[[c for c in mean_df.columns if f\"{metric}_epoch{epoch}\" in c]].idxmax(axis=1)\n",
        "#\n",
        "#     result = grouped.apply(lambda x: x[best_col.loc[x.name]].values)\n",
        "#     means = grouped.apply(lambda x: x[best_col.loc[x.name]].mean())\n",
        "#     stds = grouped.apply(lambda x: x[best_col.loc[x.name]].std())\n",
        "#\n",
        "#\n",
        "#     df_cols = {'mean': means, 'std': stds, 'values': result.values}\n",
        "#     if epoch == \"best\": df_cols['epoch'] = best_col.apply(lambda x: int(x.split(\"epoch\")[1]) if \"epoch\" in x else \"last\")\n",
        "#\n",
        "#     df_cols['CI'] = result.apply(lambda x: bootstrap_ci(x))\n",
        "#\n",
        "#     summary_df = pd.DataFrame(df_cols, index=best_col.index)\n",
        "#     for d in drop_list:\n",
        "#         if d in summary_df.index:\n",
        "#             summary_df=summary_df.drop(d)\n",
        "#     if len(summary_df.index.names) == 1:\n",
        "#         return summary_df.rename_axis(group_name)\n",
        "#     else:\n",
        "#         return summary_df\n",
        "#\n",
        "# def bootstrap_ci(data, n_bootstrap=1000, ci=0.95):\n",
        "#     bootstrapped_means = []\n",
        "#     for _ in range(n_bootstrap):\n",
        "#         sample = np.random.choice(data, size=len(data), replace=True)\n",
        "#         bootstrapped_means.append(np.mean(sample))\n",
        "#     lower_bound = np.percentile(bootstrapped_means, (1 - ci) / 2 * 100)\n",
        "#     upper_bound = np.percentile(bootstrapped_means, (1 + ci) / 2 * 100)\n",
        "#     return lower_bound, upper_bound"
      ],
      "metadata": {
        "ExecuteTime": {
          "end_time": "2024-04-10T15:33:03.145621Z",
          "start_time": "2024-04-10T15:33:03.133116Z"
        },
        "id": "e5d7190b1601ff70"
      },
      "execution_count": null
    },
    {
      "cell_type": "code",
      "outputs": [],
      "source": [
        "def result_metric(sweeps, group_name, drop_list=[0], drop_HPT=False, metric=BASE_METRIC, epoch=\"best\"):\n",
        "    df = api.get_sweeps_results(sweeps, metric=metric)\n",
        "\n",
        "    config_cols = [c for c in df.columns if \"config_\" in c and c!=\"config_wandb_run_id\" and c!=\"config_online_simulation_size\"]\n",
        "    HPT_cols = [col for col in config_cols if df[col].nunique() > 1]\n",
        "    print(HPT_cols)\n",
        "    if drop_HPT:\n",
        "        df=df.drop([c for c in HPT_cols if not c in [\"config_LLM_SIM_SIZE\", \"config_seed\"]], axis=1)\n",
        "        HPT_cols = [\"config_LLM_SIM_SIZE\", \"config_seed\"]\n",
        "\n",
        "    # Remove non-numeric columns before computing mean and std\n",
        "    numeric_cols = df.select_dtypes(include=np.number).columns\n",
        "    df_numeric = df[numeric_cols]\n",
        "\n",
        "    grouped = df_numeric.groupby([c for c in HPT_cols if c != \"config_seed\"])\n",
        "\n",
        "    mean_df = grouped.mean()\n",
        "    std_df = grouped.std()\n",
        "\n",
        "    # Re-add non-numeric columns before computing best_col\n",
        "    for col in config_cols:\n",
        "        if col not in mean_df.columns:\n",
        "            mean_df[col] = df[col]\n",
        "\n",
        "    if epoch==\"best\":\n",
        "        best_col = mean_df[[c for c in mean_df.columns if (metric in c and metric[-4:] == c.split(\"_epoch\")[0][-4:])]].idxmax(axis=1)\n",
        "    else:\n",
        "        best_col = mean_df[[c for c in mean_df.columns if f\"{metric}_epoch{epoch}\" in c]].idxmax(axis=1)\n",
        "\n",
        "    result = grouped.apply(lambda x: x[best_col.loc[x.name]].values)\n",
        "    means = grouped.apply(lambda x: x[best_col.loc[x.name]].mean())\n",
        "    stds = grouped.apply(lambda x: x[best_col.loc[x.name]].std())\n",
        "\n",
        "\n",
        "    df_cols = {'mean': means, 'std': stds, 'values': result.values}\n",
        "    if epoch == \"best\": df_cols['epoch'] = best_col.apply(lambda x: int(x.split(\"epoch\")[1]) if \"epoch\" in x else \"last\")\n",
        "\n",
        "    df_cols['CI'] = result.apply(lambda x: bootstrap_ci(x))\n",
        "\n",
        "    summary_df = pd.DataFrame(df_cols, index=best_col.index)\n",
        "    for d in drop_list:\n",
        "        if d in summary_df.index:\n",
        "            summary_df=summary_df.drop(d)\n",
        "    if len(summary_df.index.names) == 1:\n",
        "        return summary_df.rename_axis(group_name)\n",
        "    else:\n",
        "        return summary_df\n",
        "\n",
        "def bootstrap_ci(data, n_bootstrap=1000, ci=0.95):\n",
        "    bootstrapped_means = []\n",
        "    for _ in range(n_bootstrap):\n",
        "        sample = np.random.choice(data, size=len(data), replace=True)\n",
        "        bootstrapped_means.append(np.mean(sample))\n",
        "    lower_bound = np.percentile(bootstrapped_means, (1 - ci) / 2 * 100)\n",
        "    upper_bound = np.percentile(bootstrapped_means, (1 + ci) / 2 * 100)\n",
        "    return lower_bound, upper_bound\n"
      ],
      "metadata": {
        "ExecuteTime": {
          "end_time": "2024-04-11T08:41:59.815601Z",
          "start_time": "2024-04-11T08:41:59.802623Z"
        },
        "id": "13426a4f1b5c7bde"
      },
      "execution_count": null
    },
    {
      "cell_type": "markdown",
      "metadata": {
        "id": "53a0ba0c-108c-43f5-8232-8b548c844b31"
      },
      "source": [
        "# For HyperParameterTuning"
      ]
    },
    {
      "cell_type": "markdown",
      "metadata": {
        "id": "dbe8fe89-e9e6-45f2-a2c0-e79a80e455ae"
      },
      "source": [
        "For every configuration that you test in the sweep, you will receive in the table the average, standard deviation, all the values obtained for the different seed values, and also the confidence interval within which the result is located at a confidence level of 95%.\n",
        "\n",
        "When epoch=\"best\" is defined, you can check in which epoch the best result is obtained. If epoch=5 is defined, you will receive the result obtained for epoch number 5.\n",
        "\n",
        "You can test multiple sweeps simultaneously by entering them into the list found in the first element of the function result_metric."
      ]
    },
    {
      "cell_type": "code",
      "execution_count": null,
      "metadata": {
        "ExecuteTime": {
          "end_time": "2024-04-11T08:43:41.601652Z",
          "start_time": "2024-04-11T08:43:40.341107Z"
        },
        "id": "9dd9321f-5c94-4f0c-8052-b50bd8bd3f4e"
      },
      "outputs": [],
      "source": [
        "# Create the directory if it doesn't exist\n",
        "directory = 'sweeps_csvs'\n",
        "if not os.path.exists(directory):\n",
        "    os.makedirs(directory)\n",
        "\n",
        "sweep_results = result_metric([\"2kmkkxka\"], \"basic_nature\", drop_HPT=False, epoch=\"best\")\n",
        "sweep_results"
      ]
    },
    {
      "cell_type": "markdown",
      "metadata": {
        "id": "3b7cf7c5-c884-43e2-9129-47a507f95124"
      },
      "source": [
        "# Result for a specific epoch"
      ]
    },
    {
      "cell_type": "code",
      "execution_count": null,
      "metadata": {
        "ExecuteTime": {
          "end_time": "2024-04-11T08:45:23.597913Z",
          "start_time": "2024-04-11T08:45:23.356684Z"
        },
        "id": "bfbdd8de-237f-4283-89b4-608c00121df7",
        "outputId": "5924d51d-d530-4aa6-ef06-b8ef62a8157a"
      },
      "outputs": [
        {
          "name": "stdout",
          "output_type": "stream",
          "text": [
            "Total number of sweeps: 1\n",
            "Download sweep_id='px13bj47' data...\n",
            "['config_seed', 'config_layers', 'config_hidden_dim']\n"
          ]
        },
        {
          "data": {
            "text/plain": "                                     mean       std  \\\nconfig_layers config_hidden_dim                       \n2             32                 0.822903  0.004485   \n              64                 0.821078  0.004435   \n4             32                 0.821501  0.003652   \n              64                 0.825733  0.002764   \n\n                                                                            values  \\\nconfig_layers config_hidden_dim                                                      \n2             32                 [0.8202714466298694, 0.8280817740751573, 0.820...   \n              64                 [0.8224877120590862, 0.8246368273885568, 0.816...   \n4             32                 [0.8179865378516612, 0.8252760405650429, 0.821...   \n              64                 [0.8226790369866819, 0.8280626878370055, 0.826...   \n\n                                                                       CI  \nconfig_layers config_hidden_dim                                            \n2             32                 (0.8202714466298694, 0.8280817740751573)  \n              64                 (0.8161096617444225, 0.8246368273885568)  \n4             32                 (0.8179865378516612, 0.8252760405650429)  \n              64                 (0.8226790369866818, 0.8280626878370055)  ",
            "text/html": "<div>\n<style scoped>\n    .dataframe tbody tr th:only-of-type {\n        vertical-align: middle;\n    }\n\n    .dataframe tbody tr th {\n        vertical-align: top;\n    }\n\n    .dataframe thead th {\n        text-align: right;\n    }\n</style>\n<table border=\"1\" class=\"dataframe\">\n  <thead>\n    <tr style=\"text-align: right;\">\n      <th></th>\n      <th></th>\n      <th>mean</th>\n      <th>std</th>\n      <th>values</th>\n      <th>CI</th>\n    </tr>\n    <tr>\n      <th>config_layers</th>\n      <th>config_hidden_dim</th>\n      <th></th>\n      <th></th>\n      <th></th>\n      <th></th>\n    </tr>\n  </thead>\n  <tbody>\n    <tr>\n      <th rowspan=\"2\" valign=\"top\">2</th>\n      <th>32</th>\n      <td>0.822903</td>\n      <td>0.004485</td>\n      <td>[0.8202714466298694, 0.8280817740751573, 0.820...</td>\n      <td>(0.8202714466298694, 0.8280817740751573)</td>\n    </tr>\n    <tr>\n      <th>64</th>\n      <td>0.821078</td>\n      <td>0.004435</td>\n      <td>[0.8224877120590862, 0.8246368273885568, 0.816...</td>\n      <td>(0.8161096617444225, 0.8246368273885568)</td>\n    </tr>\n    <tr>\n      <th rowspan=\"2\" valign=\"top\">4</th>\n      <th>32</th>\n      <td>0.821501</td>\n      <td>0.003652</td>\n      <td>[0.8179865378516612, 0.8252760405650429, 0.821...</td>\n      <td>(0.8179865378516612, 0.8252760405650429)</td>\n    </tr>\n    <tr>\n      <th>64</th>\n      <td>0.825733</td>\n      <td>0.002764</td>\n      <td>[0.8226790369866819, 0.8280626878370055, 0.826...</td>\n      <td>(0.8226790369866818, 0.8280626878370055)</td>\n    </tr>\n  </tbody>\n</table>\n</div>"
          },
          "execution_count": 5,
          "metadata": {},
          "output_type": "execute_result"
        }
      ],
      "source": [
        "sweep_results = result_metric([\"2kmkkxka\"], \"basic_nature\", drop_HPT=False, epoch=1)\n",
        "sweep_results"
      ]
    },
    {
      "cell_type": "code",
      "execution_count": null,
      "metadata": {
        "id": "a198a156-3e53-4ef4-9525-47e8671c7844"
      },
      "outputs": [],
      "source": []
    }
  ]
}